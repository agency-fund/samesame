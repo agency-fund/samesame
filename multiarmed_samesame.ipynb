{
 "cells": [
  {
   "cell_type": "markdown",
   "id": "82eb7a53-4171-4cf0-9792-4404d59920ad",
   "metadata": {},
   "source": [
    "## Implementation of a multi-armed bandit in Python.\n",
    "\n",
    "We import the needed library for scipy (stats)."
   ]
  },
  {
   "cell_type": "code",
   "execution_count": 99,
   "id": "73edc5f9-fa88-4c16-88e5-7fce1d2ffb46",
   "metadata": {},
   "outputs": [
    {
     "name": "stdout",
     "output_type": "stream",
     "text": [
      "Defaulting to user installation because normal site-packages is not writeable\n",
      "Requirement already satisfied: scipy in /home/robert/.local/lib/python3.9/site-packages (1.10.1)\n",
      "Requirement already satisfied: numpy<1.27.0,>=1.19.5 in /home/robert/.local/lib/python3.9/site-packages (from scipy) (1.24.2)\n"
     ]
    }
   ],
   "source": [
    "import sys\n",
    "!{sys.executable} -m pip install scipy\n",
    "from scipy import stats"
   ]
  },
  {
   "cell_type": "markdown",
   "id": "05412224-2989-4681-8c47-311999606b39",
   "metadata": {},
   "source": [
    "First we define the number of users we'll be simulating and the number of treatment arms in the experiment. "
   ]
  },
  {
   "cell_type": "code",
   "execution_count": 100,
   "id": "d3c3a0fa-a862-4102-a71d-281f55d50289",
   "metadata": {},
   "outputs": [],
   "source": [
    "num_users = 10000\n",
    "num_arms = 2"
   ]
  },
  {
   "cell_type": "markdown",
   "id": "7547a0d2-fb46-48f5-a7e8-b5908c2ad456",
   "metadata": {},
   "source": [
    "Next, we need to define the 'success rate' of each arm. This is unknown in a real life experiment but for the purposes of this simulation we must define it so we can 'discover it' through the multi-armed bandit."
   ]
  },
  {
   "cell_type": "code",
   "execution_count": 103,
   "id": "c1fb4da7-7009-4b88-bdbd-1ff2ff292747",
   "metadata": {},
   "outputs": [],
   "source": [
    "success_rates = {'A': 0.5, 'B': 0.60}"
   ]
  },
  {
   "cell_type": "markdown",
   "id": "54f815a3-7e70-40b9-bb50-b4b1f8013181",
   "metadata": {},
   "source": [
    "This means the first arm A 'succeeds' 50% of the time and the second arm B 60% of the time. \n",
    "\n",
    "Success in this case could mean that they simply continue in the app - or it could be that they completed some activity in the future. The only limitation is that the indicator must be true or false (boolean) and not a continuous, numeric outcome.  This will work in most cases.\n",
    "\n",
    "### Simulation"
   ]
  },
  {
   "cell_type": "code",
   "execution_count": 107,
   "id": "d673e829-d390-49f4-a89b-4e83dbca8e9a",
   "metadata": {},
   "outputs": [],
   "source": [
    "result_counts = {'A': {'success': 0, 'failure': 0},\n",
    "                 'B': {'success': 0, 'failure': 0}}"
   ]
  },
  {
   "cell_type": "markdown",
   "id": "018b82b1-c389-4aa0-8245-e49a4f244861",
   "metadata": {},
   "source": [
    "For our simulation we need to keep track of the number of successes and failures for each arm to learn how much better one arm could be than the other. Then lets run the simluation:"
   ]
  },
  {
   "cell_type": "code",
   "execution_count": 111,
   "id": "daba8308-a750-4b7b-ac8e-26631322f484",
   "metadata": {},
   "outputs": [],
   "source": [
    "for i in range(num_users):\n",
    "    # for storing the values that determine which arm we _believe is better\n",
    "    current_draw = {'A': None, 'B': None} \n",
    "    for arm in result_counts.keys():\n",
    "        # draw these values from a beta distribution that considers the number of successes/failures in each arm\n",
    "        current_draw[arm] = stats.beta.rvs(result_counts[arm]['success'] + 1,\n",
    "                                           result_counts[arm]['failure'] + 1, 1) - 1 \n",
    "    #print(current_draw)\n",
    "    # select the arm with the greatest value\n",
    "    chosen_arm = max(current_draw, key = current_draw.get)\n",
    "    #print(chosen_arm)\n",
    "    # get the result of the arm based on the probability of success in our simulation\n",
    "    # we won't know this in an acutal experiment\n",
    "    current_result = stats.binom.rvs(1, success_rates[chosen_arm], 1) - 1\n",
    "    #print(current_result)\n",
    "    if current_result == 1: # success\n",
    "        # increment the success count for the selected arm\n",
    "        result_counts[chosen_arm]['success'] += 1\n",
    "        # increment teh failure count for the selected arm\n",
    "    elif current_result == 0: # failure\n",
    "        result_counts[chosen_arm]['failure'] += 1\n",
    "    #print(f'draws: {current_draw}\\t chose: {chosen_arm}\\t result: {current_result}\\t counts: {result_counts}')"
   ]
  },
  {
   "cell_type": "markdown",
   "id": "6d115d9a-ef3b-4a51-9ddb-94f5977ee31b",
   "metadata": {},
   "source": [
    "### Results"
   ]
  },
  {
   "cell_type": "markdown",
   "id": "2654ea78-0f4c-4918-bc94-6b3183cb48b3",
   "metadata": {},
   "source": [
    "Below you can see what we learned about the success rate for each arm. We should learn the success rate of the more successful arm fairly accurately since we allocated more users to it. We know less about the arm that was less performant because we didn't allocate as many users to it."
   ]
  },
  {
   "cell_type": "code",
   "execution_count": 112,
   "id": "1576d461-fada-4cd3-8e0c-ef10a66e6cdd",
   "metadata": {},
   "outputs": [
    {
     "data": {
      "text/plain": [
       "{'A': 0.4726027397260274, 'B': 0.5974223665516541}"
      ]
     },
     "execution_count": 112,
     "metadata": {},
     "output_type": "execute_result"
    }
   ],
   "source": [
    "{arm: result_counts[arm]['success'] / (result_counts[arm]['success'] + result_counts[arm]['failure'])\n",
    "    for arm in result_counts\n",
    "}"
   ]
  },
  {
   "cell_type": "markdown",
   "id": "aa6178eb-e63b-4a63-86aa-1fd60d75ce32",
   "metadata": {},
   "source": [
    "Accordingly we did not allocate as much traffic to the less performant arm, hurray."
   ]
  },
  {
   "cell_type": "code",
   "execution_count": 113,
   "id": "46748c98-14cf-4de9-a9bd-e1dedac566d9",
   "metadata": {},
   "outputs": [
    {
     "data": {
      "text/plain": [
       "{'A': 146, 'B': 9854}"
      ]
     },
     "execution_count": 113,
     "metadata": {},
     "output_type": "execute_result"
    }
   ],
   "source": [
    "{arm: (result_counts[arm]['success'] + result_counts[arm]['failure'])\n",
    "    for arm in result_counts\n",
    "}"
   ]
  }
 ],
 "metadata": {
  "kernelspec": {
   "display_name": "Python 3 (ipykernel)",
   "language": "python",
   "name": "python3"
  },
  "language_info": {
   "codemirror_mode": {
    "name": "ipython",
    "version": 3
   },
   "file_extension": ".py",
   "mimetype": "text/x-python",
   "name": "python",
   "nbconvert_exporter": "python",
   "pygments_lexer": "ipython3",
   "version": "3.9.7"
  }
 },
 "nbformat": 4,
 "nbformat_minor": 5
}
